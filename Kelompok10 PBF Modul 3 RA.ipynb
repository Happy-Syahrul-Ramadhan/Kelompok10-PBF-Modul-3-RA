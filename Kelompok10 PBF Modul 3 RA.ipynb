{
  "nbformat": 4,
  "nbformat_minor": 0,
  "metadata": {
    "colab": {
      "provenance": []
    },
    "kernelspec": {
      "name": "python3",
      "display_name": "Python 3"
    },
    "language_info": {
      "name": "python"
    }
  },
  "cells": [
    {
      "cell_type": "markdown",
      "source": [
        "# Normalisasi data menggunakan metode min max scaller"
      ],
      "metadata": {
        "id": "hVLBM2kxA4zw"
      }
    },
    {
      "cell_type": "markdown",
      "source": [
        "Contoh data yang sering memerlukan normalisasi adalah data yang memiliki skala yang sangat berbeda antara fitur-fiturnya. Misalnya, dalam dataset berikut, terdapat dua fitur yang memiliki skala yang berbeda:\n",
        "\n",
        "Fitur A memiliki nilai yang jauh lebih besar dibandingkan dengan fitur B. Hal ini dapat menyebabkan masalah dalam beberapa algoritma machine learning yang sensitif terhadap skala, seperti regresi linear dan k-nearest neighbors.\n",
        "\n",
        "Dengan normalisasi, kita dapat mengubah kedua fitur ini sehingga memiliki skala yang serupa, misalnya dalam rentang 0 hingga 1, sehingga memudahkan dalam pemrosesan data lebih lanjut."
      ],
      "metadata": {
        "id": "qYWRvzjlBK0L"
      }
    },
    {
      "cell_type": "code",
      "source": [
        "# Import library yang digunakan\n",
        "import numpy as np\n",
        "import pandas as pd"
      ],
      "metadata": {
        "id": "EdCVMzphCjpo"
      },
      "execution_count": 20,
      "outputs": []
    },
    {
      "cell_type": "code",
      "source": [
        "# Dataset yang diberikan dalam bentuk dictionary\n",
        "data = {'Fitur A': [100, 50, 200, 150],\n",
        "        'Fitur B': [5, 2, 7, 3]}\n",
        "\n",
        "# Membuat DataFrame dari dataset\n",
        "df = pd.DataFrame(data)"
      ],
      "metadata": {
        "id": "8tfWJL98Co6E"
      },
      "execution_count": 21,
      "outputs": []
    },
    {
      "cell_type": "code",
      "source": [
        "# Mendefinisikan fungsi untuk melakukan penskalaan Min-Max pada dictionary\n",
        "def min_max_scale_dict(data):\n",
        "    # Mengambil kunci (nama kolom) dari dictionary\n",
        "    keys = data.keys()\n",
        "    # Membuat dictionary untuk menyimpan data yang sudah dinormalisasi\n",
        "    scaled_data = {}\n",
        "    # Iterasi melalui setiap kunci (nama kolom) dalam dictionary\n",
        "    for key in keys:\n",
        "        # Menghitung nilai minimum dan maksimum dari kolom yang bersangkutan\n",
        "        min_val = np.min(data[key])\n",
        "        max_val = np.max(data[key])\n",
        "        # Normalisasi setiap nilai dalam kolom menggunakan rumus Min-Max scaling\n",
        "        scaled_data[key] = [(val - min_val) / (max_val - min_val) for val in data[key]]\n",
        "    # Mengembalikan dictionary yang berisi data yang sudah dinormalisasi\n",
        "    return scaled_data"
      ],
      "metadata": {
        "id": "4hioBPqWCu7f"
      },
      "execution_count": 22,
      "outputs": []
    },
    {
      "cell_type": "code",
      "source": [
        "# Memanggil fungsi min_max_scale_dict untuk melakukan normalisasi\n",
        "normalized_data = min_max_scale_dict(data)\n",
        "\n",
        "# Membuat DataFrame baru dari data yang sudah dinormalisasi\n",
        "df_normalized = pd.DataFrame(normalized_data, columns=df.columns)"
      ],
      "metadata": {
        "id": "7J744_9C-PfH"
      },
      "execution_count": 23,
      "outputs": []
    },
    {
      "cell_type": "code",
      "source": [
        "# Menampilkan DataFrame yang sudah dinormalisasi\n",
        "print(df_normalized)"
      ],
      "metadata": {
        "colab": {
          "base_uri": "https://localhost:8080/"
        },
        "id": "dnVZA-_6C9Fw",
        "outputId": "83902b04-8efe-4a17-8daa-73f5149324d4"
      },
      "execution_count": 24,
      "outputs": [
        {
          "output_type": "stream",
          "name": "stdout",
          "text": [
            "    Fitur A  Fitur B\n",
            "0  0.333333      0.6\n",
            "1  0.000000      0.0\n",
            "2  1.000000      1.0\n",
            "3  0.666667      0.2\n"
          ]
        }
      ]
    },
    {
      "cell_type": "markdown",
      "source": [
        "Setelah proses normalisasi Min-Max, data yang awalnya memiliki rentang nilai yang berbeda untuk setiap kolomnya telah diubah sehingga setiap nilai dalam setiap kolom memiliki rentang antara 0 dan 1."
      ],
      "metadata": {
        "id": "mEMf4SLo_vup"
      }
    },
    {
      "cell_type": "markdown",
      "source": [
        "1. Kolom A\n",
        "\n",
        "\n",
        "*   Nilai 100 dinormalisasi menjadi 0.25. Ini berarti nilai 100 dalam kolom A setelah dinormalisasi menjadi 0.25, yang menunjukkan bahwa nilai 100 adalah sekitar 25% dari rentang nilai dalam kolom A.\n",
        "*   Nilai 50 dinormalisasi menjadi 0.0. Ini berarti nilai 50 dalam kolom A setelah dinormalisasi menjadi 0.0, yang menunjukkan bahwa nilai 50 adalah nilai minimum dalam kolom A setelah dinormalisasi.\n",
        "*   Nilai 200 dinormalisasi menjadi 1.0. Ini berarti nilai 200 dalam kolom A setelah dinormalisasi menjadi 1.0, yang menunjukkan bahwa nilai 200 adalah nilai maksimum dalam kolom A setelah dinormalisasi.\n",
        "*   Nilai 150 dinormalisasi menjadi 0.75. Ini berarti nilai 150 dalam kolom A setelah dinormalisasi menjadi 0.75, yang menunjukkan bahwa nilai 150 adalah sekitar 75% dari rentang nilai dalam kolom A.\n",
        "\n",
        "2. Kolom B\n",
        "\n",
        "\n",
        "*   Nilai 5 dinormalisasi menjadi 0.5. Ini berarti nilai 5 dalam kolom B setelah dinormalisasi menjadi 0.5, yang menunjukkan bahwa nilai 5 adalah sekitar 50% dari rentang nilai dalam kolom B.\n",
        "*   Nilai 2 dinormalisasi menjadi 0.0. Ini berarti nilai 2 dalam kolom B setelah dinormalisasi menjadi 0.0, yang menunjukkan bahwa nilai 2 adalah nilai minimum dalam kolom B setelah dinormalisasi.\n",
        "*   Nilai 7 dinormalisasi menjadi 1.0. Ini berarti nilai 7 dalam kolom B setelah dinormalisasi menjadi 1.0, yang menunjukkan bahwa nilai 7 adalah nilai maksimum dalam kolom B setelah dinormalisasi.\n",
        "*   Nilai 3 dinormalisasi menjadi 0.25. Ini berarti nilai 3 dalam kolom B setelah dinormalisasi menjadi 0.25, yang menunjukkan bahwa nilai 3 adalah sekitar 25% dari rentang nilai dalam kolom B.\n",
        "\n",
        "\n",
        "\n",
        "\n",
        "\n",
        "\n",
        "\n",
        "\n",
        "\n",
        "\n"
      ],
      "metadata": {
        "id": "n0vSLhSBEBca"
      }
    },
    {
      "cell_type": "markdown",
      "source": [
        "Dengan melakukan normalisasi, kita dapat membandingkan dan menganalisis data dengan lebih mudah karena semua nilai telah diperhitungkan dalam rentang yang sama."
      ],
      "metadata": {
        "id": "eLyw4EXgEspQ"
      }
    }
  ]
}